{
  "nbformat": 4,
  "nbformat_minor": 0,
  "metadata": {
    "colab": {
      "provenance": [],
      "authorship_tag": "ABX9TyPJkozwSPlkVbvIlBWlX1OW",
      "include_colab_link": true
    },
    "kernelspec": {
      "name": "python3",
      "display_name": "Python 3"
    },
    "language_info": {
      "name": "python"
    }
  },
  "cells": [
    {
      "cell_type": "markdown",
      "metadata": {
        "id": "view-in-github",
        "colab_type": "text"
      },
      "source": [
        "<a href=\"https://colab.research.google.com/github/ifeyichukwu/WEEK-7-AI-FOR-S.E--ASSIGNMENT/blob/main/bias_audit_compas.ipynb\" target=\"_parent\"><img src=\"https://colab.research.google.com/assets/colab-badge.svg\" alt=\"Open In Colab\"/></a>"
      ]
    },
    {
      "cell_type": "code",
      "source": [
        "# ✅ 1. Install necessary libraries\n",
        "!pip install -q aif360 pandas seaborn matplotlib scikit-learn numpy\n",
        "\n",
        "# ✅ 2. Import libraries\n",
        "import pandas as pd\n",
        "import seaborn as sns\n",
        "import matplotlib.pyplot as plt\n",
        "\n",
        "from aif360.datasets import CompasDataset\n",
        "from aif360.metrics import BinaryLabelDatasetMetric, ClassificationMetric\n",
        "from aif360.algorithms.preprocessing import Reweighing\n",
        "\n",
        "# ✅ 3. Load COMPAS Dataset\n",
        "try:\n",
        "    dataset = CompasDataset()\n",
        "    print(\"COMPAS dataset loaded successfully.\")\n",
        "except Exception as e:\n",
        "    print(\"Error loading COMPAS dataset:\", e)\n",
        "    print(\"Try using a manual CSV load if issue persists.\")\n",
        "\n",
        "# ✅ 4. Define Privileged and Unprivileged Groups\n",
        "privileged_groups = [{'race': 1}]        # Caucasian\n",
        "unprivileged_groups = [{'race': 0}]      # African-American\n",
        "\n",
        "# ✅ 5. Compute Bias Metrics\n",
        "metric = BinaryLabelDatasetMetric(\n",
        "    dataset,\n",
        "    privileged_groups=privileged_groups,\n",
        "    unprivileged_groups=unprivileged_groups\n",
        ")\n",
        "\n",
        "print(\"Statistical parity difference:\", round(metric.statistical_parity_difference(), 3))\n",
        "print(\"Disparate impact:\", round(metric.disparate_impact(), 3))\n",
        "\n",
        "# ✅ 6. Visualization of Base Rates by Group\n",
        "# Base rate = proportion of favorable outcomes\n",
        "privileged_base_rate = (dataset.labels[(dataset.protected_attributes[:, 0] == 1)] == 1).mean()\n",
        "unprivileged_base_rate = (dataset.labels[(dataset.protected_attributes[:, 0] == 0)] == 1).mean()\n",
        "\n",
        "labels = ['Privileged (Caucasian)', 'Unprivileged (African-American)']\n",
        "values = [privileged_base_rate, unprivileged_base_rate]\n",
        "\n",
        "plt.figure(figsize=(6, 4))\n",
        "sns.barplot(x=labels, y=values, palette=['green', 'red'])\n",
        "plt.title(\"Base Rate by Race Group\")\n",
        "plt.ylabel(\"Base Rate\")\n",
        "plt.ylim(0, 1)\n",
        "plt.show()\n",
        "\n",
        "\n",
        "\n",
        "# ✅ 7. Mitigation using Reweighing\n",
        "RW = Reweighing(\n",
        "    unprivileged_groups=unprivileged_groups,\n",
        "    privileged_groups=privileged_groups\n",
        ")\n",
        "\n",
        "dataset_transf = RW.fit_transform(dataset)\n",
        "print(\"Reweighing complete.\")\n"
      ],
      "metadata": {
        "colab": {
          "base_uri": "https://localhost:8080/",
          "height": 585
        },
        "id": "R4tAMtEKc_qR",
        "outputId": "25656e12-6d12-4b44-f901-887668474d51"
      },
      "execution_count": 15,
      "outputs": [
        {
          "output_type": "stream",
          "name": "stderr",
          "text": [
            "WARNING:root:Missing Data: 5 rows removed from CompasDataset.\n",
            "/tmp/ipython-input-15-876817673.py:44: FutureWarning: \n",
            "\n",
            "Passing `palette` without assigning `hue` is deprecated and will be removed in v0.14.0. Assign the `x` variable to `hue` and set `legend=False` for the same effect.\n",
            "\n",
            "  sns.barplot(x=labels, y=values, palette=['green', 'red'])\n"
          ]
        },
        {
          "output_type": "stream",
          "name": "stdout",
          "text": [
            "COMPAS dataset loaded successfully.\n",
            "Statistical parity difference: -0.097\n",
            "Disparate impact: 0.84\n"
          ]
        },
        {
          "output_type": "display_data",
          "data": {
            "text/plain": [
              "<Figure size 600x400 with 1 Axes>"
            ],
            "image/png": "[encoded data removed]"
          },
          "metadata": {}
        },
        {
          "output_type": "stream",
          "name": "stdout",
          "text": [
            "Reweighing complete.\n"
          ]
        }
      ]
    }
  ]
}